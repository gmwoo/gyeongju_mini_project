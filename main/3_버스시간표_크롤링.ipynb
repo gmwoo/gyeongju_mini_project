{
 "cells": [
  {
   "cell_type": "code",
   "execution_count": 23,
   "id": "434bdfc2",
   "metadata": {},
   "outputs": [],
   "source": [
    "from selenium import webdriver\n",
    "from selenium.webdriver.chrome.service import Service\n",
    "from selenium.webdriver.common.by import By\n",
    "from selenium.webdriver.common.keys import Keys\n",
    "from selenium.webdriver.support.ui import Select\n",
    "import time\n",
    "import re\n",
    "import pandas as pd\n",
    "import requests\n",
    "from bs4 import BeautifulSoup\n",
    "from bs4 import BeautifulSoup as bs"
   ]
  },
  {
   "cell_type": "code",
   "execution_count": 29,
   "id": "8dc01905",
   "metadata": {},
   "outputs": [],
   "source": [
    "# 20230705171919_관광지별 성_연령 발문 집중률 조회.csv\n",
    "place_name = ['경주골굴사', '경주김유신묘', '경주동궁과월지'\n",
    ",'경주동부사적지대','경주무열왕릉','경주문무대왕릉'\n",
    ",'경주불국사', '경주석굴암', '경주신문왕릉', '경주월성(반월성)'\n",
    ", '경주첨성대', '경주금곡사', '경주기림사', '경주백률사', '경주분황사' \n",
    ",'경주연지암', '경주주사암']\n",
    "\n",
    "# place_number = {\n",
    "#     '경주골굴사':['02089','02090'], '경주김유신묘':['01025','01036'], \n",
    "#     '경주동궁과월지':['01225', '01237'], '경주동부사적지대':['01279','01280'], \n",
    "#     '경주무열왕릉':['01194','01195'], '경주문무대왕릉':['02056','02057'],\n",
    "#     '경주불국사':['01160','01161'], '경주석굴암':['01199','01199'], \n",
    "#     '경주신문왕릉':['01081','01082'], '경주월성(반월성)':['01237','01238'], \n",
    "#     '경주첨성대':['01279','01280'], '경주금곡사':['05379','05380'],\n",
    "#     '경주기림사':['02021','02021'], '경주백률사':['01228','01229'],\n",
    "#     '경주분황사':['01157','01158'],'경주연지암':['05423','05426'], \n",
    "#     '경주주사암':['03121','03122']\n",
    "# } \n",
    "# place_number = ['02089','02090','01025','01036','01225', '01237','01279','01280',\n",
    "#                '01194','01195','02056','02057','01160','01161','01199',\n",
    "#                '01081','01082','01238','01280','05379','05380',\n",
    "#                '02021','01228','01229','01157','01158','14104','14105']\n",
    "# } \n",
    "place_number = ['02021','01199']"
   ]
  },
  {
   "cell_type": "code",
   "execution_count": 24,
   "id": "e4d8203b",
   "metadata": {},
   "outputs": [],
   "source": [
    "path='../../driver/chromedriver.exe'\n",
    "driver = webdriver.Chrome(service=Service(path))"
   ]
  },
  {
   "cell_type": "code",
   "execution_count": 25,
   "id": "61ee6da6",
   "metadata": {},
   "outputs": [],
   "source": [
    "# 네이버 지도 접속\n",
    "driver.get('https://map.naver.com/')\n",
    "time.sleep(3)"
   ]
  },
  {
   "cell_type": "markdown",
   "id": "0ce2f0f5",
   "metadata": {},
   "source": [
    "### 버스 정보 받아오기"
   ]
  },
  {
   "cell_type": "code",
   "execution_count": 26,
   "id": "bffde571",
   "metadata": {},
   "outputs": [],
   "source": [
    "def bus_info(driver):\n",
    "    html = driver.page_source\n",
    "    soup = BeautifulSoup(html, 'html.parser')\n",
    "    \n",
    "    # 정류장 이름 리스트 저장\n",
    "    station_name = []\n",
    "    d = soup.select('div.route_area>ul>li>a>span>strong')\n",
    "    for x in d:\n",
    "        station_name.append(x.text)\n",
    "\n",
    "    time.sleep(3)\n",
    "\n",
    "    # 정류장 고유 번호 리스트 저장\n",
    "    station_number = []\n",
    "    e = soup.select('div.route_area>ul>li>a>div.route_box')\n",
    "    for x in e:\n",
    "        station_number.append(x.text)\n",
    "    time.sleep(3)\n",
    "\n",
    "    bus_data = {'버스노선':station_name, '정류장번호':station_number}\n",
    "\n",
    "    return bus_data"
   ]
  },
  {
   "cell_type": "code",
   "execution_count": 37,
   "id": "0e06933f",
   "metadata": {},
   "outputs": [],
   "source": [
    "# 배너 '버스' 클릭\n",
    "element = driver.find_element(By.CLASS_NAME,\"link_navbar.bus\")\n",
    "element.click()\n",
    "time.sleep(5)\n",
    "\n",
    "# 버스 정류장 클릭\n",
    "busstop_button = driver.find_element(By.CLASS_NAME,\"link_tab.busstop\")\n",
    "busstop_button.click()\n",
    "time.sleep(3)\n",
    "\n",
    "for i in range(len(place_number)):\n",
    "    \n",
    "    # 버스 정류장 검색 클릭\n",
    "    busstop_search = driver.find_element(By.ID,\"input_search1689055109366\")\n",
    "####   busstop_search ID 말고 다른 방법 찾아보기\n",
    "\n",
    "    time.sleep(2)\n",
    "    # place_num 입력\n",
    "    searh_name = place_number[i]\n",
    "    busstop_search.send_keys(searh_name)\n",
    "    busstop_search.send_keys(Keys.ENTER)\n",
    "    time.sleep(3)\n",
    "\n",
    "    # 전체지역 -> 경상북도 클릭\n",
    "    location_button = driver.find_element(By.CLASS_NAME,\"btn_option\")\n",
    "    location_button.click()\n",
    "    time.sleep(3)\n",
    "    geongbuk_button = driver.find_elements(By.CLASS_NAME, 'link_select')\n",
    "    for i in range(len(geongbuk_button)):\n",
    "        if geongbuk_button[i].text == '경상북도':\n",
    "            geongbuk_button[i].click()\n",
    "    time.sleep(4)\n",
    "\n",
    "    # 버스 정보 클릭\n",
    "    location_button = driver.find_element(By.CLASS_NAME,\"search_result_content_area\")\n",
    "    location_button.click()\n",
    "    time.sleep(4)\n",
    "\n",
    "#     # 정류장의 버스 개수 세기\n",
    "#     count_bus = driver.find_elements(By.CLASS_NAME, 'item_station.ng-star-inserted')\n",
    "#     time.sleep(4)\n",
    "\n",
    "    # 버스 순서대로 클릭\n",
    "    bus_info = driver.find_element(By.CLASS_NAME, \"item_station.ng-star-inserted\")\n",
    "    bus_info.click()\n",
    "    time.sleep(5)\n",
    "\n",
    "    # 운행시간, 배차간격(첫차) 가져오기\n",
    "    first = driver.find_element(By.CLASS_NAME,\"item_bus_info.ng-star-inserted\")\n",
    "    first_time = first.find_element(By.CLASS_NAME,\"value\").text[3:]\n",
    "    time.sleep(5)\n",
    "\n",
    "    per_time = driver.find_element(By.CLASS_NAME,\"value.ng-star-inserted\").text\n",
    "    time.sleep(5)\n",
    "\n",
    "    # 버스 번호 받아오기\n",
    "    html = driver.page_source\n",
    "    soup = BeautifulSoup(html, 'html.parser')\n",
    "    bus_num = soup.select('div.title_wrap_box>div.title_box>strong')[0].text\n",
    "\n",
    "    html = driver.page_source\n",
    "    soup = BeautifulSoup(html, 'html.parser')\n",
    "\n",
    "    # 정류장 이름 리스트 저장\n",
    "    station_name = []\n",
    "    d = soup.select('div.route_area>ul>li>a>span>strong')\n",
    "    for x in d:\n",
    "        station_name.append(x.text)\n",
    "\n",
    "    time.sleep(5)\n",
    "\n",
    "    # 정류장 고유 번호 리스트 저장\n",
    "    station_number = []\n",
    "    e = soup.select('div.route_area>ul>li>a>div.route_box')\n",
    "    for x in e:\n",
    "        station_number.append(x.text)\n",
    "    time.sleep(5)\n",
    "\n",
    "#         bus_data = {'버스노선':station_name, '정류장번호':station_number}\n",
    "#     print(bus_data)\n",
    "    # 데이터프레임 저장\n",
    "    df = pd.DataFrame()\n",
    "\n",
    "    df['버스노선'] = station_name\n",
    "    df['정류장번호'] = station_number\n",
    "    df['버스번호'] = bus_num\n",
    "    df['도착시간'] = first_time\n",
    "    df['배차간격'] = per_time\n",
    "\n",
    "    df.to_excel(bus_num+f'_{j}_{searh_name}'+\".xlsx\")\n",
    "    time.sleep(5)\n",
    "    # 뒤로가기 버튼 누르기\n",
    "    back_button = driver.find_element(By.CLASS_NAME,\"btn_back\")\n",
    "    back_button.click()\n",
    "    time.sleep(5)\n",
    "\n",
    "    # 도착지 이전 입력값 지우기\n",
    "    busstop_search.send_keys(Keys.CONTROL + \"A\")\n",
    "    busstop_search.send_keys(Keys.DELETE)\n",
    "    time.sleep(3)"
   ]
  },
  {
   "cell_type": "code",
   "execution_count": 35,
   "id": "a308986f",
   "metadata": {},
   "outputs": [
    {
     "data": {
      "text/plain": [
       "[<selenium.webdriver.remote.webelement.WebElement (session=\"863c2d882d2e8d66ec5be15ab314e0fc\", element=\"EA5CAE57BBA1BFA5487986DB9E690A66_element_582\")>]"
      ]
     },
     "execution_count": 35,
     "metadata": {},
     "output_type": "execute_result"
    }
   ],
   "source": [
    "driver.find_elements(By.CLASS_NAME, \"list_station\")\n",
    "   "
   ]
  },
  {
   "cell_type": "code",
   "execution_count": 19,
   "id": "808b9a0f",
   "metadata": {
    "scrolled": false
   },
   "outputs": [],
   "source": [
    "# 배너 '버스' 클릭\n",
    "element = driver.find_element(By.CLASS_NAME,\"link_navbar.bus\")\n",
    "element.click()\n",
    "time.sleep(5)\n",
    "\n",
    "# 버스 정류장 클릭\n",
    "busstop_button = driver.find_element(By.CLASS_NAME,\"link_tab.busstop\")\n",
    "busstop_button.click()\n",
    "time.sleep(3)\n",
    "\n",
    "for i in range(len(place_number)):\n",
    "    \n",
    "    # 버스 정류장 검색 클릭\n",
    "    busstop_search = driver.find_element(By.ID,\"input_search1689033438137\")\n",
    "####   busstop_search ID 말고 다른 방법 찾아보기\n",
    "\n",
    "    time.sleep(2)\n",
    "    # place_num 입력\n",
    "    searh_name = place_number[i]\n",
    "    busstop_search.send_keys(searh_name)\n",
    "    busstop_search.send_keys(Keys.ENTER)\n",
    "    time.sleep(3)\n",
    "\n",
    "    # 전체지역 -> 경상북도 클릭\n",
    "    location_button = driver.find_element(By.CLASS_NAME,\"btn_option\")\n",
    "    location_button.click()\n",
    "    time.sleep(3)\n",
    "    geongbuk_button = driver.find_elements(By.CLASS_NAME, 'link_select')\n",
    "    for i in range(len(geongbuk_button)):\n",
    "        if geongbuk_button[i].text == '경상북도':\n",
    "            geongbuk_button[i].click()\n",
    "    time.sleep(4)\n",
    "\n",
    "    # 버스 정보 클릭\n",
    "    location_button = driver.find_element(By.CLASS_NAME,\"search_result_content_area\")\n",
    "    location_button.click()\n",
    "    time.sleep(4)\n",
    "\n",
    "    # 정류장의 버스 개수 세기\n",
    "    count_bus = driver.find_elements(By.CLASS_NAME, 'item_station.ng-star-inserted')\n",
    "    time.sleep(4)\n",
    "    \n",
    "    for j in range(len(count_bus)):\n",
    "        # 버스 순서대로 클릭\n",
    "        bus_info = driver.find_elements(By.CLASS_NAME, \"item_station.ng-star-inserted\")\n",
    "        bus_info[j].click()\n",
    "        time.sleep(5)\n",
    "\n",
    "        # 운행시간, 배차간격(첫차) 가져오기\n",
    "        first = driver.find_element(By.CLASS_NAME,\"item_bus_info.ng-star-inserted\")\n",
    "        first_time = first.find_element(By.CLASS_NAME,\"value\").text[3:]\n",
    "        time.sleep(5)\n",
    "\n",
    "        per_time = driver.find_element(By.CLASS_NAME,\"value.ng-star-inserted\").text\n",
    "        time.sleep(5)\n",
    "\n",
    "        # 버스 번호 받아오기\n",
    "        html = driver.page_source\n",
    "        soup = BeautifulSoup(html, 'html.parser')\n",
    "        bus_num = soup.select('div.title_wrap_box>div.title_box>strong')[0].text\n",
    "\n",
    "        html = driver.page_source\n",
    "        soup = BeautifulSoup(html, 'html.parser')\n",
    "\n",
    "        # 정류장 이름 리스트 저장\n",
    "        station_name = []\n",
    "        d = soup.select('div.route_area>ul>li>a>span>strong')\n",
    "        for x in d:\n",
    "            station_name.append(x.text)\n",
    "\n",
    "        time.sleep(5)\n",
    "\n",
    "        # 정류장 고유 번호 리스트 저장\n",
    "        station_number = []\n",
    "        e = soup.select('div.route_area>ul>li>a>div.route_box')\n",
    "        for x in e:\n",
    "            station_number.append(x.text)\n",
    "        time.sleep(5)\n",
    "\n",
    "#         bus_data = {'버스노선':station_name, '정류장번호':station_number}\n",
    "    #     print(bus_data)\n",
    "        # 데이터프레임 저장\n",
    "        df = pd.DataFrame()\n",
    "\n",
    "        df['버스노선'] = station_name\n",
    "        df['정류장번호'] = station_number\n",
    "        df['버스번호'] = bus_num\n",
    "        df['도착시간'] = first_time\n",
    "        df['배차간격'] = per_time\n",
    "        \n",
    "        df.to_excel(bus_num+f'_{j}_{searh_name}'+\".xlsx\")\n",
    "        time.sleep(5)\n",
    "        # 뒤로가기 버튼 누르기\n",
    "        back_button = driver.find_element(By.CLASS_NAME,\"btn_back\")\n",
    "        back_button.click()\n",
    "        time.sleep(5)\n",
    "\n",
    "    # 도착지 이전 입력값 지우기\n",
    "    busstop_search.send_keys(Keys.CONTROL + \"A\")\n",
    "    busstop_search.send_keys(Keys.DELETE)\n",
    "    time.sleep(3)"
   ]
  },
  {
   "cell_type": "code",
   "execution_count": null,
   "id": "d5740927",
   "metadata": {},
   "outputs": [],
   "source": [
    "df = pd.read_excel('./좌석1000.xlsx')\n",
    "df"
   ]
  },
  {
   "cell_type": "code",
   "execution_count": null,
   "id": "da8583f6",
   "metadata": {
    "scrolled": true
   },
   "outputs": [],
   "source": [
    "count_bus = driver.find_elements(By.CLASS_NAME, 'item_station.ng-star-inserted')\n",
    "len(count_bus)"
   ]
  },
  {
   "cell_type": "code",
   "execution_count": null,
   "id": "da593458",
   "metadata": {
    "scrolled": false
   },
   "outputs": [],
   "source": [
    "# ap = pd.read_excel('./좌석150_6_01237.xlsx')\n",
    "# ap"
   ]
  },
  {
   "cell_type": "code",
   "execution_count": null,
   "id": "3d90a383",
   "metadata": {},
   "outputs": [],
   "source": [
    "# a = soup.select('div.title_wrap_box>div.title_box>strong')[0].text\n",
    "# a"
   ]
  },
  {
   "cell_type": "code",
   "execution_count": null,
   "id": "e795e9f1",
   "metadata": {},
   "outputs": [],
   "source": [
    "# # 뒤로가기 버튼\n",
    "\n",
    "# back_button = driver.find_element(By.CLASS_NAME,\"btn_back\")\n",
    "# back_button.click()\n",
    "# time.sleep(3)"
   ]
  },
  {
   "cell_type": "code",
   "execution_count": null,
   "id": "9410eac9",
   "metadata": {},
   "outputs": [],
   "source": [
    "# # 정류장의 버스 개수 세기\n",
    "# # b = soup.select('div.station_area')\n",
    "# c = driver.find_elements(By.CLASS_NAME, 'item_station.ng-star-inserted')\n",
    "# len(c)"
   ]
  },
  {
   "cell_type": "code",
   "execution_count": null,
   "id": "4d22c39b",
   "metadata": {},
   "outputs": [],
   "source": [
    "#  bus_info[2]"
   ]
  },
  {
   "cell_type": "code",
   "execution_count": 1,
   "id": "4335febd",
   "metadata": {},
   "outputs": [],
   "source": [
    "import pandas as pd"
   ]
  },
  {
   "cell_type": "code",
   "execution_count": 6,
   "id": "99a238d4",
   "metadata": {},
   "outputs": [
    {
     "data": {
      "text/html": [
       "<div>\n",
       "<style scoped>\n",
       "    .dataframe tbody tr th:only-of-type {\n",
       "        vertical-align: middle;\n",
       "    }\n",
       "\n",
       "    .dataframe tbody tr th {\n",
       "        vertical-align: top;\n",
       "    }\n",
       "\n",
       "    .dataframe thead th {\n",
       "        text-align: right;\n",
       "    }\n",
       "</style>\n",
       "<table border=\"1\" class=\"dataframe\">\n",
       "  <thead>\n",
       "    <tr style=\"text-align: right;\">\n",
       "      <th></th>\n",
       "      <th>test</th>\n",
       "    </tr>\n",
       "  </thead>\n",
       "  <tbody>\n",
       "  </tbody>\n",
       "</table>\n",
       "</div>"
      ],
      "text/plain": [
       "Empty DataFrame\n",
       "Columns: [test]\n",
       "Index: []"
      ]
     },
     "execution_count": 6,
     "metadata": {},
     "output_type": "execute_result"
    }
   ],
   "source": [
    "lst = []\n",
    "for i in range(3):\n",
    "    df = pd.DataFrame()\n",
    "    df['test'] = i\n",
    "    lst.append(df)\n",
    "lst[2]"
   ]
  },
  {
   "cell_type": "code",
   "execution_count": 18,
   "id": "27a500c8",
   "metadata": {},
   "outputs": [
    {
     "data": {
      "text/html": [
       "<div>\n",
       "<style scoped>\n",
       "    .dataframe tbody tr th:only-of-type {\n",
       "        vertical-align: middle;\n",
       "    }\n",
       "\n",
       "    .dataframe tbody tr th {\n",
       "        vertical-align: top;\n",
       "    }\n",
       "\n",
       "    .dataframe thead th {\n",
       "        text-align: right;\n",
       "    }\n",
       "</style>\n",
       "<table border=\"1\" class=\"dataframe\">\n",
       "  <thead>\n",
       "    <tr style=\"text-align: right;\">\n",
       "      <th></th>\n",
       "      <th>ID</th>\n",
       "      <th>name</th>\n",
       "      <th>class</th>\n",
       "    </tr>\n",
       "  </thead>\n",
       "  <tbody>\n",
       "    <tr>\n",
       "      <th>0</th>\n",
       "      <td>20190103</td>\n",
       "      <td>Kim</td>\n",
       "      <td>H</td>\n",
       "    </tr>\n",
       "    <tr>\n",
       "      <th>1</th>\n",
       "      <td>20190222</td>\n",
       "      <td>Lee</td>\n",
       "      <td>W</td>\n",
       "    </tr>\n",
       "    <tr>\n",
       "      <th>2</th>\n",
       "      <td>20190531</td>\n",
       "      <td>Jeong</td>\n",
       "      <td>S</td>\n",
       "    </tr>\n",
       "  </tbody>\n",
       "</table>\n",
       "</div>"
      ],
      "text/plain": [
       "         ID   name class\n",
       "0  20190103    Kim     H\n",
       "1  20190222    Lee     W\n",
       "2  20190531  Jeong     S"
      ]
     },
     "execution_count": 18,
     "metadata": {},
     "output_type": "execute_result"
    }
   ],
   "source": [
    "lst = []\n",
    "for i in range(3):\n",
    "    ap = pd.DataFrame({'ID':[20190103, 20190222, 20190531],\n",
    "                                 'name':['Kim', 'Lee', 'Jeong'],\n",
    "                                 'class':['H', 'W', 'S']})\n",
    "    lst.append(ap)\n",
    "lst[1]"
   ]
  }
 ],
 "metadata": {
  "kernelspec": {
   "display_name": "Python 3 (ipykernel)",
   "language": "python",
   "name": "python3"
  },
  "language_info": {
   "codemirror_mode": {
    "name": "ipython",
    "version": 3
   },
   "file_extension": ".py",
   "mimetype": "text/x-python",
   "name": "python",
   "nbconvert_exporter": "python",
   "pygments_lexer": "ipython3",
   "version": "3.10.9"
  }
 },
 "nbformat": 4,
 "nbformat_minor": 5
}
