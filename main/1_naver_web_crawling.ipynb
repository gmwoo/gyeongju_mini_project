{
 "cells": [
  {
   "cell_type": "markdown",
   "id": "013e0996",
   "metadata": {},
   "source": [
    "1. 정류장 노선 이름을 순서대로 리스트 저장\n",
    "2. 정류장 첫차, 막차, 배차간격 리스트 저장\n",
    "3. 길찾기 > 순서대로 정류장 시간 딕셔너리 저장\n",
    "4. 버스별 데이터프레임 만들고 엑셀 저장 \n",
    "  column    노선도   첫차   배차간격에따른차고지출발시각(총 횟수에 따라 설정)          \n",
    "   시각\n",
    "5. 목적지 두 개와 시간을 찍었을 때\n",
    " - 각 데이터프레임에서 최단 버스 시각 출력 \n",
    "6. 목적지 세 개(A-B-C)를 찍었을 때\n",
    " - A->B->C, A->C->B, \n",
    "   B->A->C, B->C->A,\n",
    "   C->A->B, C->B->A\n",
    "    > 목적지별 데이터프레임에서 매칭되는 '정류장'을 중간에 넣기\n",
    "     --> 4개 이상 목적지에서 최단 경로가 될 수 있음  \n",
    " - 목적지별 1시간 관람으로 가정하여 배차시간 컬럼 가져오기"
   ]
  },
  {
   "cell_type": "code",
   "execution_count": 91,
   "id": "0eab7cde",
   "metadata": {},
   "outputs": [],
   "source": [
    "from selenium import webdriver\n",
    "from selenium.webdriver.chrome.service import Service\n",
    "from selenium.webdriver.common.by import By\n",
    "from selenium.webdriver.common.keys import Keys\n",
    "from selenium.webdriver.support.ui import Select\n",
    "import time\n",
    "import pandas as pd\n",
    "path='../../driver/chromedriver.exe'\n",
    "driver = webdriver.Chrome(service=Service(path))"
   ]
  },
  {
   "cell_type": "code",
   "execution_count": 92,
   "id": "0d7ddb2a",
   "metadata": {},
   "outputs": [],
   "source": [
    "# 20230705171919_관광지별 성_연령 발문 집중률 조회.csv\n",
    "place = ['경주골굴사', '경주김유신묘', '경주동궁과월지'\n",
    ",'경주동부사적지대','경주무열왕릉_태종무열왕릉비','경주문무대왕릉'\n",
    ",'경주불국사', '경주석굴암', '경주신문왕릉', '경주월성(반월성)'\n",
    ", '경주첨성대', '경주금곡사', '경주기림사', '경주백률사', '경주분황사' \n",
    ",'경주연지암', '경주주사암']"
   ]
  },
  {
   "cell_type": "markdown",
   "id": "ad615c9f",
   "metadata": {},
   "source": [
    "### 네이버 지도 접속"
   ]
  },
  {
   "cell_type": "code",
   "execution_count": 93,
   "id": "52a10168",
   "metadata": {},
   "outputs": [],
   "source": [
    "driver.get('https://map.naver.com/')\n",
    "time.sleep(3)"
   ]
  },
  {
   "cell_type": "markdown",
   "id": "f05bc7f4",
   "metadata": {},
   "source": [
    "### 배너 '길찾기' 클릭"
   ]
  },
  {
   "cell_type": "code",
   "execution_count": 98,
   "id": "8458d26b",
   "metadata": {},
   "outputs": [],
   "source": [
    "element = driver.find_element(By.CLASS_NAME,\"link_navbar.directions\")\n",
    "element.click()\n",
    "time.sleep(2)"
   ]
  },
  {
   "cell_type": "markdown",
   "id": "e55cea9a",
   "metadata": {},
   "source": [
    "### 출발지 입력에 '경주시외버스터미널' 검색"
   ]
  },
  {
   "cell_type": "code",
   "execution_count": 99,
   "id": "b0454daf",
   "metadata": {
    "scrolled": true
   },
   "outputs": [],
   "source": [
    "dep_search = driver.find_element(By.ID, 'directionStart0')"
   ]
  },
  {
   "cell_type": "code",
   "execution_count": 100,
   "id": "11efc4c2",
   "metadata": {},
   "outputs": [],
   "source": [
    "start_searh_name = \"경주시외버스터미널\"\n",
    "dep_search.send_keys(start_searh_name)\n",
    "dep_search.send_keys(Keys.ENTER)\n",
    "\n",
    "time.sleep(3)"
   ]
  },
  {
   "cell_type": "markdown",
   "id": "4c08d002",
   "metadata": {},
   "source": [
    "### 도착지 입력에 place 중 하나 입력"
   ]
  },
  {
   "cell_type": "code",
   "execution_count": 101,
   "id": "e7a478b3",
   "metadata": {},
   "outputs": [],
   "source": [
    "arr_search = driver.find_element(By.ID, 'directionGoal1')\n",
    "arr_searh_name = place[1]\n",
    "arr_search.send_keys(arr_searh_name)\n",
    "arr_search.send_keys(Keys.ENTER)\n",
    "\n",
    "time.sleep(3)"
   ]
  },
  {
   "cell_type": "markdown",
   "id": "48bb961c",
   "metadata": {},
   "source": [
    "### '길찾기' 클릭"
   ]
  },
  {
   "cell_type": "code",
   "execution_count": 102,
   "id": "a99b7d11",
   "metadata": {},
   "outputs": [],
   "source": [
    "element = driver.find_element(By.CLASS_NAME,\"btn.btn_direction.active\")\n",
    "element.click()\n",
    "time.sleep(3)"
   ]
  },
  {
   "cell_type": "markdown",
   "id": "c2742e23",
   "metadata": {},
   "source": [
    "### 첫 번째로 보이는최적경로 버스와 노선도 가져오기"
   ]
  },
  {
   "cell_type": "code",
   "execution_count": 103,
   "id": "0c5ed343",
   "metadata": {},
   "outputs": [],
   "source": [
    "# 상세보기\n",
    "bus_detail = driver.find_element(By.CLASS_NAME,\"btn_detail\")\n",
    "bus_detail.click()\n",
    "time.sleep(3)"
   ]
  },
  {
   "cell_type": "code",
   "execution_count": 104,
   "id": "0792a9d1",
   "metadata": {},
   "outputs": [],
   "source": [
    "# 버스 클릭\n",
    "bus_click = driver.find_element(By.CLASS_NAME,\"bus_name_box\")\n",
    "bus_click.click()\n",
    "time.sleep(3)"
   ]
  },
  {
   "cell_type": "code",
   "execution_count": 31,
   "id": "3722115b",
   "metadata": {
    "scrolled": true
   },
   "outputs": [
    {
     "data": {
      "text/plain": [
       "'신경주역 방면\\n회차\\n기점\\n신경주역\\n03142\\n회차\\n옥수마을\\n03177\\n회차\\n광명교\\n미정차\\n회차\\n광명\\n01048\\n회차\\n남강주유소\\n01066\\n회차\\n와산마을\\n01260\\n회차\\n경주대학교\\n01016\\n회차\\n외외마을입구\\n01265\\n회차\\n베스트원현대서비스\\n01138\\n회차\\n문화중고등학교입구\\n01126\\n회차\\n국민건강보험.정보고등학교\\n01060\\n회차\\n서라벌대학기숙사앞.송화도서관\\n01187\\n회차\\n서라벌대학.신라고\\n01186\\n회차\\n경주초등학교앞\\n01036\\n회차\\n경주여중건너편\\n01026\\n회차\\n시외버스.고속버스터미널\\n01225\\n거리뷰\\n회차\\n경주여중.원자력환경공단.코라드\\n01025\\n회차\\n경주초등학교앞\\n01037\\n회차\\n서라벌대학.신라고\\n01185\\n회차\\n서라벌대학기숙사앞.송화도서관\\n01188\\n회차\\n국민건강보험.정보고등학교\\n01059\\n회차\\n문화중고등학교입구\\n01127\\n회차\\n알마을.베스트원현대서비스\\n01239\\n회차\\n외외마을입구\\n01264\\n회차\\n경주대학교\\n01017\\n회차\\n와산마을\\n01259\\n회차\\n농수산물집하장\\n01078\\n회차\\n광명\\n01047\\n회차\\n옥수마을\\n03176\\n회차\\n종점\\n신경주역\\n03143'"
      ]
     },
     "execution_count": 31,
     "metadata": {},
     "output_type": "execute_result"
    }
   ],
   "source": [
    "# 버스 정보 가져오기\n",
    "import re\n",
    "def bus_info(driver):\n",
    "    # 버스 번호 \n",
    "    bus_num = driver.find_element(By.CLASS_NAME,'title_box').text[2:]\n",
    "    a = []\n",
    "    # 운행 첫 차 시각\n",
    "    bus_first_time_text = driver.find_element(By.CLASS_NAME,\"item_bus_info.ng-star-inserted\").text\n",
    "    bus_first_time = re.sub(r'[^0-9]', '',bus_first_time_text)\n",
    "#     time.sleep(2)\n",
    "    a = driver.find_element(By.CLASS_NAME, \"route_area\").text\n",
    "    time.sleep(4)\n",
    "    \n",
    "#     # 배차간격\n",
    "#     bus_term = driver.find_element(By.XPATH,\"\"\"/html/body/app/layout/div[3]/div[2]/shrinkable-layout/div/directions-layout/directions-result/div[2]/directions-details-result/entry-layout/entry-bus-route/div[1]/div[2]/div/div[1]/ul/li[3]/div\"\"\").text    \n",
    "    data = [bus_num+'번', bus_first_time[:4]]\n",
    "    return a\n",
    "bus_info(driver)"
   ]
  },
  {
   "cell_type": "code",
   "execution_count": 105,
   "id": "8a594f12",
   "metadata": {},
   "outputs": [],
   "source": [
    "import requests\n",
    "from bs4 import BeautifulSoup\n",
    "from bs4 import BeautifulSoup as bs\n",
    "\n",
    "html = driver.page_source\n",
    "soup = BeautifulSoup(html, 'html.parser')"
   ]
  },
  {
   "cell_type": "code",
   "execution_count": 109,
   "id": "83de029c",
   "metadata": {},
   "outputs": [
    {
     "ename": "TypeError",
     "evalue": "'NoneType' object is not callable",
     "output_type": "error",
     "traceback": [
      "\u001b[1;31m---------------------------------------------------------------------------\u001b[0m",
      "\u001b[1;31mTypeError\u001b[0m                                 Traceback (most recent call last)",
      "Cell \u001b[1;32mIn[109], line 1\u001b[0m\n\u001b[1;32m----> 1\u001b[0m content \u001b[38;5;241m=\u001b[39m \u001b[43msoup\u001b[49m\u001b[38;5;241;43m.\u001b[39;49m\u001b[43mfindall\u001b[49m\u001b[43m(\u001b[49m\u001b[38;5;124;43m\"\u001b[39;49m\u001b[38;5;124;43mlist_route type_bus1\u001b[39;49m\u001b[38;5;124;43m\"\u001b[39;49m\u001b[43m)\u001b[49m\n\u001b[0;32m      2\u001b[0m content\n",
      "\u001b[1;31mTypeError\u001b[0m: 'NoneType' object is not callable"
     ]
    }
   ],
   "source": [
    "content = soup.findall(\"list_route type_bus1\")\n",
    "content"
   ]
  },
  {
   "cell_type": "raw",
   "id": "a9c359ae",
   "metadata": {},
   "source": [
    "route_1= driver.find_element(By.CLASS_NAME, \"route_area\")\n",
    "# route_2 = route_1.find_element(By.CLASS_NAME, \"list_route.type_bus2\")\n",
    "\n",
    "route_2 = route_1.find_element(By.TAG_NAME, \"ul\")\n",
    "route_3 = route_2.find_element(By.TAG_NAME, \"li\")\n",
    "route_4 = route_3.find_element(By.TAG_NAME, \"strong\")\n",
    "route_2.text"
   ]
  },
  {
   "cell_type": "code",
   "execution_count": 77,
   "id": "349d86a4",
   "metadata": {},
   "outputs": [],
   "source": [
    "# 노선도 가져오기\n",
    "\n",
    "def bus_route(driver):\n",
    "    lst = []\n",
    "    bus_list = []\n",
    "    route = driver.find_element(By.CLASS_NAME, \"route_area\").text\n",
    "    lst.append(route.split(sep='\\n'))\n",
    "    lst = lst[0]\n",
    "    for i in range(len(lst)):\n",
    "        bus_list.append(lst[3::3])\n",
    "    time.sleep(6)\n",
    "    return lst\n"
   ]
  },
  {
   "cell_type": "code",
   "execution_count": 75,
   "id": "e767acee",
   "metadata": {},
   "outputs": [],
   "source": [
    "# 다음 place 요소 가져오기\n",
    "\n",
    "def next_place(driver):\n",
    "    # 도착지점 지우기\n",
    "    next_place = driver.find_element(By.ID, 'directionGoal1')\n",
    "    next_place.clear()"
   ]
  },
  {
   "cell_type": "code",
   "execution_count": 78,
   "id": "2612456b",
   "metadata": {},
   "outputs": [
    {
     "data": {
      "text/html": [
       "<div>\n",
       "<style scoped>\n",
       "    .dataframe tbody tr th:only-of-type {\n",
       "        vertical-align: middle;\n",
       "    }\n",
       "\n",
       "    .dataframe tbody tr th {\n",
       "        vertical-align: top;\n",
       "    }\n",
       "\n",
       "    .dataframe thead th {\n",
       "        text-align: right;\n",
       "    }\n",
       "</style>\n",
       "<table border=\"1\" class=\"dataframe\">\n",
       "  <thead>\n",
       "    <tr style=\"text-align: right;\">\n",
       "      <th></th>\n",
       "      <th>0</th>\n",
       "    </tr>\n",
       "  </thead>\n",
       "  <tbody>\n",
       "    <tr>\n",
       "      <th>0</th>\n",
       "      <td>신경주역 방면</td>\n",
       "    </tr>\n",
       "    <tr>\n",
       "      <th>1</th>\n",
       "      <td>회차</td>\n",
       "    </tr>\n",
       "    <tr>\n",
       "      <th>2</th>\n",
       "      <td>기점</td>\n",
       "    </tr>\n",
       "    <tr>\n",
       "      <th>3</th>\n",
       "      <td>신경주역</td>\n",
       "    </tr>\n",
       "    <tr>\n",
       "      <th>4</th>\n",
       "      <td>03142</td>\n",
       "    </tr>\n",
       "    <tr>\n",
       "      <th>...</th>\n",
       "      <td>...</td>\n",
       "    </tr>\n",
       "    <tr>\n",
       "      <th>89</th>\n",
       "      <td>03176</td>\n",
       "    </tr>\n",
       "    <tr>\n",
       "      <th>90</th>\n",
       "      <td>회차</td>\n",
       "    </tr>\n",
       "    <tr>\n",
       "      <th>91</th>\n",
       "      <td>종점</td>\n",
       "    </tr>\n",
       "    <tr>\n",
       "      <th>92</th>\n",
       "      <td>신경주역</td>\n",
       "    </tr>\n",
       "    <tr>\n",
       "      <th>93</th>\n",
       "      <td>03143</td>\n",
       "    </tr>\n",
       "  </tbody>\n",
       "</table>\n",
       "<p>94 rows × 1 columns</p>\n",
       "</div>"
      ],
      "text/plain": [
       "          0\n",
       "0   신경주역 방면\n",
       "1        회차\n",
       "2        기점\n",
       "3      신경주역\n",
       "4     03142\n",
       "..      ...\n",
       "89    03176\n",
       "90       회차\n",
       "91       종점\n",
       "92     신경주역\n",
       "93    03143\n",
       "\n",
       "[94 rows x 1 columns]"
      ]
     },
     "execution_count": 78,
     "metadata": {},
     "output_type": "execute_result"
    }
   ],
   "source": [
    "df = pd.DataFrame(bus_route(driver))\n",
    "df"
   ]
  },
  {
   "cell_type": "code",
   "execution_count": 42,
   "id": "c071130f",
   "metadata": {},
   "outputs": [],
   "source": [
    "from selenium import webdriver\n",
    "from selenium.webdriver.chrome.service import Service\n",
    "from selenium.webdriver.common.by import By\n",
    "from selenium.webdriver.common.keys import Keys\n",
    "import time\n",
    "path='../../driver/chromedriver.exe'\n",
    "driver = webdriver.Chrome(service=Service(path))\n",
    "\n",
    "# 네이버 지도 접속\n",
    "driver.get('https://map.naver.com/')\n",
    "time.sleep(3)\n",
    "\n",
    "element = driver.find_element(By.CLASS_NAME,\"link_navbar.directions\")\n",
    "element.click()\n",
    "time.sleep(2)\n"
   ]
  },
  {
   "cell_type": "code",
   "execution_count": 40,
   "id": "700bfddc",
   "metadata": {},
   "outputs": [],
   "source": [
    "# 출발지에 경주시외버스터미널 누르기\n",
    "dep_search = driver.find_element(By.ID, 'directionStart0')\n",
    "start_searh_name = \"경주시외버스터미널\"\n",
    "dep_search.send_keys(start_searh_name)\n",
    "dep_search.send_keys(Keys.ENTER)\n",
    "time.sleep(3)"
   ]
  },
  {
   "cell_type": "code",
   "execution_count": 1,
   "id": "1678312b",
   "metadata": {},
   "outputs": [],
   "source": [
    "# target = 3\n",
    "# result = []\n",
    "# for i in range(target):\n",
    "    \n",
    "#     # 도착지에 place 입력\n",
    "#     arr_search = driver.find_element(By.ID, 'directionGoal1')\n",
    "#     arr_searh_name = place[i]\n",
    "#     arr_search.send_keys(arr_searh_name)\n",
    "#     arr_search.send_keys(Keys.ENTER)\n",
    "    \n",
    "#     # 길찾기 클릭\n",
    "#     element = driver.find_element(By.CLASS_NAME,\"link_navbar.directions\")\n",
    "#     element.click()\n",
    "#     time.sleep(3)\n",
    "    \n",
    "#     # 상세보기\n",
    "#     bus_detail = driver.find_element(By.CLASS_NAME,\"btn_detail\")\n",
    "#     bus_detail.click()\n",
    "    \n",
    "#     time.sleep(3)\n",
    " \n",
    "#     # 버스 클릭\n",
    "#     bus_click = driver.find_element(By.CLASS_NAME,\"bus_name_box\")\n",
    "#     bus_click.click()\n",
    "#     time.sleep(4)\n",
    "    \n",
    "#     try:\n",
    "#         data = bus_info(driver)\n",
    "#         result.append(data)\n",
    "#         bus_info(driver)\n",
    "#     except:\n",
    "#         time.sleep(10)\n",
    "#         bus_info(driver)\n",
    "\n",
    "#     next_place(driver)"
   ]
  },
  {
   "cell_type": "markdown",
   "id": "eb4ed65c",
   "metadata": {},
   "source": [
    "1. "
   ]
  },
  {
   "cell_type": "code",
   "execution_count": null,
   "id": "471345a3",
   "metadata": {},
   "outputs": [],
   "source": []
  },
  {
   "cell_type": "code",
   "execution_count": null,
   "id": "a6367cd1",
   "metadata": {},
   "outputs": [],
   "source": []
  },
  {
   "cell_type": "code",
   "execution_count": null,
   "id": "913ee73f",
   "metadata": {},
   "outputs": [],
   "source": []
  },
  {
   "cell_type": "code",
   "execution_count": null,
   "id": "cf6991b8",
   "metadata": {},
   "outputs": [],
   "source": []
  }
 ],
 "metadata": {
  "kernelspec": {
   "display_name": "Python 3 (ipykernel)",
   "language": "python",
   "name": "python3"
  },
  "language_info": {
   "codemirror_mode": {
    "name": "ipython",
    "version": 3
   },
   "file_extension": ".py",
   "mimetype": "text/x-python",
   "name": "python",
   "nbconvert_exporter": "python",
   "pygments_lexer": "ipython3",
   "version": "3.10.9"
  }
 },
 "nbformat": 4,
 "nbformat_minor": 5
}
