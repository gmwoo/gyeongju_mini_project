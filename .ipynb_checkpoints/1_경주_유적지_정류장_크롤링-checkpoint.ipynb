{
 "cells": [
  {
   "cell_type": "markdown",
   "id": "c1bcb10d",
   "metadata": {},
   "source": [
    "1. 정류장 노선 이름을 순서대로 리스트 저장\n",
    "2. 정류장 첫차, 막차, 배차간격 리스트 저장\n",
    "3. 길찾기 > 순서대로 정류장 시간 딕셔너리 저장\n",
    "4. 버스별 데이터프레임 만들고 엑셀 저장 \n",
    "  column    노선도   첫차   배차간격에따른차고지출발시각(총 횟수에 따라 설정)          \n",
    "   시각\n",
    "5. 목적지 두 개와 시간을 찍었을 때\n",
    " - 각 데이터프레임에서 최단 버스 시각 출력 \n",
    "6. 목적지 세 개(A-B-C)를 찍었을 때\n",
    " - A->B->C, A->C->B, \n",
    "   B->A->C, B->C->A,\n",
    "   C->A->B, C->B->A\n",
    "    > 목적지별 데이터프레임에서 매칭되는 '정류장'을 중간에 넣기\n",
    "     --> 4개 이상 목적지에서 최단 경로가 될 수 있음  \n",
    " - 목적지별 1시간 관람으로 가정하여 배차시간 컬럼 가져오기"
   ]
  },
  {
   "cell_type": "code",
   "execution_count": 1,
   "id": "30d35f57",
   "metadata": {},
   "outputs": [],
   "source": [
    "from selenium import webdriver\n",
    "from selenium.webdriver.chrome.service import Service\n",
    "from selenium.webdriver.common.by import By\n",
    "from selenium.webdriver.common.keys import Keys\n",
    "import time\n",
    "import pandas as pd\n",
    "import re"
   ]
  },
  {
   "cell_type": "code",
   "execution_count": 2,
   "id": "be26bd19",
   "metadata": {},
   "outputs": [],
   "source": [
    "# 20230705171919_관광지별 성_연령 발문 집중률 조회.csv\n",
    "place = ['경주골굴사', '경주김유신묘', '경주동궁과월지'\n",
    ",'경주동부사적지대','경주무열왕릉','경주문무대왕릉'\n",
    ",'경주불국사', '경주석굴암', '경주신문왕릉', '경주월성(반월성)'\n",
    ", '경주첨성대', '경주금곡사', '경주기림사', '경주백률사', '경주분황사' \n",
    ",'경주연지암', '경주주사암']"
   ]
  },
  {
   "cell_type": "code",
   "execution_count": 3,
   "id": "02ce5b36",
   "metadata": {},
   "outputs": [],
   "source": [
    "path='../../driver/chromedriver.exe'\n",
    "driver = webdriver.Chrome(service=Service(path))"
   ]
  },
  {
   "cell_type": "code",
   "execution_count": 4,
   "id": "ac476a56",
   "metadata": {},
   "outputs": [],
   "source": [
    "# 노선도 가져오기\n",
    "\n",
    "def bus_route(driver):\n",
    "    lst = []\n",
    "    bus_list = []\n",
    "    route = driver.find_element(By.CLASS_NAME, \"route_area\").text\n",
    "    lst.append(route.split(sep='\\n'))\n",
    "    lst = lst[0]\n",
    "    for i in range(len(lst)):\n",
    "        bus_list.append(lst[3::3])\n",
    "    time.sleep(6)\n",
    "    return lst"
   ]
  },
  {
   "cell_type": "code",
   "execution_count": 5,
   "id": "a64d9b5c",
   "metadata": {},
   "outputs": [],
   "source": [
    "# 버스 정보 가져오기\n",
    "def bus_info(driver):\n",
    "    # 버스 번호 \n",
    "    bus_num = driver.find_element(By.CLASS_NAME,'title_box').text[2:]\n",
    "\n",
    "    # 운행 첫 차 시각\n",
    "    bus_first_time_text = driver.find_element(By.CLASS_NAME,\"item_bus_info.ng-star-inserted\").text\n",
    "    bus_first_time = re.sub(r'[^0-9]', '',bus_first_time_text)\n",
    "    time.sleep(4)\n",
    "\n",
    "#     # 배차간격\n",
    "#     bus_term = driver.find_element(By.XPATH,\"\"\"/html/body/app/layout/div[3]/div[2]/shrinkable-layout/div/directions-layout/directions-result/div[2]/directions-details-result/entry-layout/entry-bus-route/div[1]/div[2]/div/div[1]/ul/li[3]/div\"\"\").text    \n",
    "    data = [bus_num+'번', bus_first_time[:4]]\n",
    "    time.sleep(4)\n",
    "    return data"
   ]
  },
  {
   "cell_type": "code",
   "execution_count": 6,
   "id": "43b732f8",
   "metadata": {},
   "outputs": [],
   "source": [
    "# 다음 place 요소 가져오기\n",
    "\n",
    "def next_place(driver):\n",
    "    # 도착지점 지우기\n",
    "    next_place = driver.find_element(By.ID, 'directionGoal1')\n",
    "    next_place.clear()"
   ]
  },
  {
   "cell_type": "code",
   "execution_count": 7,
   "id": "7d41781c",
   "metadata": {},
   "outputs": [],
   "source": [
    "target = len(place)\n",
    "\n",
    "# 네이버 지도 접속\n",
    "driver.get('https://map.naver.com/')\n",
    "time.sleep(3)\n",
    "\n",
    "# 배너 '길찾기 클릭'\n",
    "element = driver.find_element(By.CLASS_NAME,\"link_navbar.directions\")\n",
    "element.click()\n",
    "time.sleep(2)\n",
    "\n",
    "# 출발지 입력에 '경주시외버스터미널' 검색\n",
    "dep_search = driver.find_element(By.ID, 'directionStart0')\n",
    "start_searh_name = \"경주시외버스터미널\"\n",
    "dep_search.send_keys(start_searh_name)\n",
    "dep_search.send_keys(Keys.ENTER)\n",
    "time.sleep(3)\n",
    "\n",
    "for i in range(target):\n",
    "    # 도착지 입력에 place 중 하나 입력\n",
    "    arr_search = driver.find_element(By.ID, 'directionGoal1')\n",
    "    arr_searh_name = place[i]\n",
    "    arr_search.send_keys(arr_searh_name)\n",
    "    arr_search.send_keys(Keys.ENTER)\n",
    "    time.sleep(3)\n",
    "\n",
    "    # '길찾기' 클릭\n",
    "    element = driver.find_element(By.CLASS_NAME,\"btn.btn_direction.active\")\n",
    "    element.click()\n",
    "    time.sleep(3)\n",
    "\n",
    "    ### 첫 번째로 보이는최적경로 버스와 노선도 가져오기\n",
    "    # 상세보기\n",
    "    bus_detail = driver.find_element(By.CLASS_NAME,\"btn_detail\")\n",
    "    bus_detail.click()\n",
    "    time.sleep(3)\n",
    "\n",
    "    # 버스 클릭\n",
    "    bus_click = driver.find_element(By.CLASS_NAME,\"bus_name_box\")\n",
    "    bus_click.click()\n",
    "    time.sleep(3)\n",
    "    df = pd.DataFrame(bus_route(driver))\n",
    "    df.to_excel(place[i]+\".xlsx\")\n",
    "    \n",
    "    # 도착지 이전 입력값 지우기\n",
    "    arr_search.send_keys(Keys.CONTROL + \"A\")\n",
    "    arr_search.send_keys(Keys.DELETE)\n",
    "    time.sleep(2)"
   ]
  },
  {
   "cell_type": "code",
   "execution_count": null,
   "id": "b8ce1302",
   "metadata": {},
   "outputs": [],
   "source": []
  }
 ],
 "metadata": {
  "kernelspec": {
   "display_name": "Python 3 (ipykernel)",
   "language": "python",
   "name": "python3"
  },
  "language_info": {
   "codemirror_mode": {
    "name": "ipython",
    "version": 3
   },
   "file_extension": ".py",
   "mimetype": "text/x-python",
   "name": "python",
   "nbconvert_exporter": "python",
   "pygments_lexer": "ipython3",
   "version": "3.10.9"
  }
 },
 "nbformat": 4,
 "nbformat_minor": 5
}
